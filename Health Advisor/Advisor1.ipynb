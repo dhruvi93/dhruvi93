{
 "cells": [
  {
   "cell_type": "code",
   "execution_count": 1,
   "id": "168edddb",
   "metadata": {},
   "outputs": [],
   "source": [
    "import pandas as pd\n",
    "import numpy as np\n",
    "import matplotlib.pyplot as plt\n",
    "import seaborn as sns\n",
    "%matplotlib inline\n",
    "from sklearn.model_selection import train_test_split\n",
    "from sklearn.linear_model import LogisticRegression\n",
    "from sklearn.metrics import accuracy_score \n",
    "status=pd.read_csv('updated - Sheet1 (1).csv')"
   ]
  },
  {
   "cell_type": "code",
   "execution_count": null,
   "id": "87c17ae3",
   "metadata": {},
   "outputs": [],
   "source": [
    "1)Gender \n",
    "2)Age\n",
    "3)SBP (mm Hg) \n",
    "4)DBP (mm Hg) \n",
    "5)Heart_rate (bpm) \n",
    "6)Glucose (mg/dL) \n",
    "7)SpO2 (Oxygen level) \n",
    "8)Temprature (F) \n",
    "9)Health_status \n",
    "1=healthy \n",
    "2=high BP \n",
    "3=low BP \n",
    "4=high sugar \n",
    "5=low sugar \n",
    "6=low oxygen \n",
    "7=high temperature \n",
    "8=heartbeat is high \n",
    "9=risk \n",
    "10=both BP and sugar high"
   ]
  },
  {
   "cell_type": "code",
   "execution_count": 2,
   "id": "0e048184",
   "metadata": {},
   "outputs": [
    {
     "data": {
      "text/plain": [
       "(123, 12)"
      ]
     },
     "execution_count": 2,
     "metadata": {},
     "output_type": "execute_result"
    }
   ],
   "source": [
    "risk=status[status.Health_status==9]\n",
    "risk.shape"
   ]
  },
  {
   "cell_type": "code",
   "execution_count": 9,
   "id": "15f9d08c",
   "metadata": {},
   "outputs": [
    {
     "data": {
      "text/plain": [
       "9    123\n",
       "1    105\n",
       "2     89\n",
       "4     65\n",
       "5     56\n",
       "3     54\n",
       "8     51\n",
       "7     46\n",
       "6     41\n",
       "Name: Health_status, dtype: int64"
      ]
     },
     "execution_count": 9,
     "metadata": {},
     "output_type": "execute_result"
    }
   ],
   "source": [
    "status['Health_status'].value_counts()"
   ]
  },
  {
   "cell_type": "code",
   "execution_count": null,
   "id": "5985c4b6",
   "metadata": {},
   "outputs": [],
   "source": [
    "status1.head()"
   ]
  },
  {
   "cell_type": "code",
   "execution_count": 28,
   "id": "43dc31e6",
   "metadata": {},
   "outputs": [
    {
     "data": {
      "text/html": [
       "<div>\n",
       "<style scoped>\n",
       "    .dataframe tbody tr th:only-of-type {\n",
       "        vertical-align: middle;\n",
       "    }\n",
       "\n",
       "    .dataframe tbody tr th {\n",
       "        vertical-align: top;\n",
       "    }\n",
       "\n",
       "    .dataframe thead th {\n",
       "        text-align: right;\n",
       "    }\n",
       "</style>\n",
       "<table border=\"1\" class=\"dataframe\">\n",
       "  <thead>\n",
       "    <tr style=\"text-align: right;\">\n",
       "      <th></th>\n",
       "      <th>sr no.</th>\n",
       "      <th>Gender</th>\n",
       "      <th>Age</th>\n",
       "      <th>SBP</th>\n",
       "      <th>HBP</th>\n",
       "      <th>heart_rate</th>\n",
       "      <th>Glucose</th>\n",
       "      <th>SpO2</th>\n",
       "      <th>Temprature</th>\n",
       "      <th>Health_status</th>\n",
       "      <th>Unnamed: 10</th>\n",
       "      <th>Unnamed: 11</th>\n",
       "    </tr>\n",
       "  </thead>\n",
       "  <tbody>\n",
       "    <tr>\n",
       "      <th>272</th>\n",
       "      <td>273</td>\n",
       "      <td>F</td>\n",
       "      <td>80</td>\n",
       "      <td>205</td>\n",
       "      <td>118</td>\n",
       "      <td>140</td>\n",
       "      <td>126</td>\n",
       "      <td>97</td>\n",
       "      <td>98.3</td>\n",
       "      <td>9</td>\n",
       "      <td>NaN</td>\n",
       "      <td>NaN</td>\n",
       "    </tr>\n",
       "    <tr>\n",
       "      <th>517</th>\n",
       "      <td>518</td>\n",
       "      <td>M</td>\n",
       "      <td>79</td>\n",
       "      <td>180</td>\n",
       "      <td>109</td>\n",
       "      <td>123</td>\n",
       "      <td>74</td>\n",
       "      <td>99</td>\n",
       "      <td>97.8</td>\n",
       "      <td>9</td>\n",
       "      <td>NaN</td>\n",
       "      <td>NaN</td>\n",
       "    </tr>\n",
       "    <tr>\n",
       "      <th>338</th>\n",
       "      <td>339</td>\n",
       "      <td>F</td>\n",
       "      <td>56</td>\n",
       "      <td>159</td>\n",
       "      <td>89</td>\n",
       "      <td>90</td>\n",
       "      <td>81</td>\n",
       "      <td>96</td>\n",
       "      <td>97.4</td>\n",
       "      <td>9</td>\n",
       "      <td>NaN</td>\n",
       "      <td>NaN</td>\n",
       "    </tr>\n",
       "    <tr>\n",
       "      <th>533</th>\n",
       "      <td>534</td>\n",
       "      <td>M</td>\n",
       "      <td>98</td>\n",
       "      <td>199</td>\n",
       "      <td>116</td>\n",
       "      <td>129</td>\n",
       "      <td>129</td>\n",
       "      <td>98</td>\n",
       "      <td>97.6</td>\n",
       "      <td>9</td>\n",
       "      <td>NaN</td>\n",
       "      <td>NaN</td>\n",
       "    </tr>\n",
       "    <tr>\n",
       "      <th>404</th>\n",
       "      <td>405</td>\n",
       "      <td>M</td>\n",
       "      <td>54</td>\n",
       "      <td>159</td>\n",
       "      <td>93</td>\n",
       "      <td>150</td>\n",
       "      <td>259</td>\n",
       "      <td>98</td>\n",
       "      <td>96.9</td>\n",
       "      <td>9</td>\n",
       "      <td>NaN</td>\n",
       "      <td>NaN</td>\n",
       "    </tr>\n",
       "  </tbody>\n",
       "</table>\n",
       "</div>"
      ],
      "text/plain": [
       "     sr no. Gender  Age  SBP  HBP  heart_rate  Glucose  SpO2  Temprature  \\\n",
       "272     273      F   80  205  118         140      126    97        98.3   \n",
       "517     518      M   79  180  109         123       74    99        97.8   \n",
       "338     339      F   56  159   89          90       81    96        97.4   \n",
       "533     534      M   98  199  116         129      129    98        97.6   \n",
       "404     405      M   54  159   93         150      259    98        96.9   \n",
       "\n",
       "     Health_status  Unnamed: 10 Unnamed: 11  \n",
       "272              9          NaN         NaN  \n",
       "517              9          NaN         NaN  \n",
       "338              9          NaN         NaN  \n",
       "533              9          NaN         NaN  \n",
       "404              9          NaN         NaN  "
      ]
     },
     "execution_count": 28,
     "metadata": {},
     "output_type": "execute_result"
    }
   ],
   "source": [
    "status1.tail()"
   ]
  },
  {
   "cell_type": "code",
   "execution_count": 8,
   "id": "94446375",
   "metadata": {},
   "outputs": [],
   "source": [
    "feature_col=['Age','SBP','HBP','heart_rate','Glucose','SpO2','Temprature']\n",
    "x=status1[feature_col]\n",
    "y=status1.Health_status"
   ]
  },
  {
   "cell_type": "code",
   "execution_count": 29,
   "id": "ae24e5bc",
   "metadata": {},
   "outputs": [
    {
     "name": "stderr",
     "output_type": "stream",
     "text": [
      "C:\\Users\\Acer\\anaconda3\\lib\\site-packages\\seaborn\\_decorators.py:36: FutureWarning: Pass the following variable as a keyword arg: x. From version 0.12, the only valid positional argument will be `data`, and passing other arguments without an explicit keyword will result in an error or misinterpretation.\n",
      "  warnings.warn(\n"
     ]
    },
    {
     "data": {
      "image/png": "[encoded data removed]",
      "text/plain": [
       "<Figure size 432x288 with 1 Axes>"
      ]
     },
     "metadata": {
      "needs_background": "light"
     },
     "output_type": "display_data"
    }
   ],
   "source": [
    "sns.countplot(y)\n",
    "plt.show()"
   ]
  },
  {
   "cell_type": "code",
   "execution_count": 3,
   "id": "50e96bcf",
   "metadata": {},
   "outputs": [],
   "source": [
    "risk=risk.sample(n=70)\n",
    "other=status[status.Health_status!=9]\n",
    "#highb=highb.sample(n=50)\n",
    "#fitt=fitt.sample(n=50)\n",
    "#highd=highd.sample(n=50)\n",
    "status1=pd.concat([other,risk],axis=0)"
   ]
  },
  {
   "cell_type": "code",
   "execution_count": 5,
   "id": "99d882aa",
   "metadata": {},
   "outputs": [],
   "source": [
    "#Splitting a dataset into training and testing set\n",
    "from sklearn.model_selection import train_test_split\n",
    "X_train, X_test, y_train, y_test = train_test_split(x, y, test_size=0.15, random_state=2)"
   ]
  },
  {
   "cell_type": "code",
   "execution_count": 6,
   "id": "780ec5b8",
   "metadata": {},
   "outputs": [
    {
     "name": "stderr",
     "output_type": "stream",
     "text": [
      "D:\\New folder\\lib\\site-packages\\sklearn\\linear_model\\_logistic.py:763: ConvergenceWarning: lbfgs failed to converge (status=1):\n",
      "STOP: TOTAL NO. of ITERATIONS REACHED LIMIT.\n",
      "\n",
      "Increase the number of iterations (max_iter) or scale the data as shown in:\n",
      "    https://scikit-learn.org/stable/modules/preprocessing.html\n",
      "Please also refer to the documentation for alternative solver options:\n",
      "    https://scikit-learn.org/stable/modules/linear_model.html#logistic-regression\n",
      "  n_iter_i = _check_optimize_result(\n"
     ]
    }
   ],
   "source": [
    "# Fitting Logistic Regression to the Training set\n",
    "\n",
    "\n",
    "from sklearn.linear_model import LogisticRegression\n",
    "log = LogisticRegression(multi_class='multinomial')\n",
    "log.fit(X_train,y_train)\n",
    "y_pred = log.predict(X_test)\n"
   ]
  },
  {
   "cell_type": "code",
   "execution_count": 7,
   "id": "b24739bd",
   "metadata": {},
   "outputs": [
    {
     "name": "stdout",
     "output_type": "stream",
     "text": [
      "[2]\n"
     ]
    },
    {
     "name": "stderr",
     "output_type": "stream",
     "text": [
      "Exception in Tkinter callback\n",
      "Traceback (most recent call last):\n",
      "  File \"D:\\New folder\\lib\\tkinter\\__init__.py\", line 1892, in __call__\n",
      "    return self.func(*args)\n",
      "  File \"<ipython-input-7-d6d79d808253>\", line 101, in <lambda>\n",
      "    button1 = Button(Health,text='Enter', fg='green', font = ('Arial',14),command = lambda:[enter(),show()])\n",
      "  File \"<ipython-input-7-d6d79d808253>\", line 97, in show\n",
      "    A\n",
      "NameError: name 'A' is not defined\n"
     ]
    },
    {
     "name": "stdout",
     "output_type": "stream",
     "text": [
      "[7]\n"
     ]
    },
    {
     "name": "stderr",
     "output_type": "stream",
     "text": [
      "Exception in Tkinter callback\n",
      "Traceback (most recent call last):\n",
      "  File \"D:\\New folder\\lib\\tkinter\\__init__.py\", line 1892, in __call__\n",
      "    return self.func(*args)\n",
      "  File \"<ipython-input-7-d6d79d808253>\", line 101, in <lambda>\n",
      "    button1 = Button(Health,text='Enter', fg='green', font = ('Arial',14),command = lambda:[enter(),show()])\n",
      "  File \"<ipython-input-7-d6d79d808253>\", line 97, in show\n",
      "    A\n",
      "NameError: name 'A' is not defined\n"
     ]
    },
    {
     "name": "stdout",
     "output_type": "stream",
     "text": [
      "[1]\n"
     ]
    },
    {
     "name": "stderr",
     "output_type": "stream",
     "text": [
      "Exception in Tkinter callback\n",
      "Traceback (most recent call last):\n",
      "  File \"D:\\New folder\\lib\\tkinter\\__init__.py\", line 1892, in __call__\n",
      "    return self.func(*args)\n",
      "  File \"<ipython-input-7-d6d79d808253>\", line 101, in <lambda>\n",
      "    button1 = Button(Health,text='Enter', fg='green', font = ('Arial',14),command = lambda:[enter(),show()])\n",
      "  File \"<ipython-input-7-d6d79d808253>\", line 97, in show\n",
      "    A\n",
      "NameError: name 'A' is not defined\n"
     ]
    },
    {
     "name": "stdout",
     "output_type": "stream",
     "text": [
      "[8]\n"
     ]
    },
    {
     "name": "stderr",
     "output_type": "stream",
     "text": [
      "Exception in Tkinter callback\n",
      "Traceback (most recent call last):\n",
      "  File \"D:\\New folder\\lib\\tkinter\\__init__.py\", line 1892, in __call__\n",
      "    return self.func(*args)\n",
      "  File \"<ipython-input-7-d6d79d808253>\", line 101, in <lambda>\n",
      "    button1 = Button(Health,text='Enter', fg='green', font = ('Arial',14),command = lambda:[enter(),show()])\n",
      "  File \"<ipython-input-7-d6d79d808253>\", line 97, in show\n",
      "    A\n",
      "NameError: name 'A' is not defined\n"
     ]
    },
    {
     "name": "stdout",
     "output_type": "stream",
     "text": [
      "[2]\n"
     ]
    },
    {
     "name": "stderr",
     "output_type": "stream",
     "text": [
      "Exception in Tkinter callback\n",
      "Traceback (most recent call last):\n",
      "  File \"D:\\New folder\\lib\\tkinter\\__init__.py\", line 1892, in __call__\n",
      "    return self.func(*args)\n",
      "  File \"<ipython-input-7-d6d79d808253>\", line 101, in <lambda>\n",
      "    button1 = Button(Health,text='Enter', fg='green', font = ('Arial',14),command = lambda:[enter(),show()])\n",
      "  File \"<ipython-input-7-d6d79d808253>\", line 97, in show\n",
      "    A\n",
      "NameError: name 'A' is not defined\n"
     ]
    },
    {
     "name": "stdout",
     "output_type": "stream",
     "text": [
      "[2]\n"
     ]
    },
    {
     "name": "stderr",
     "output_type": "stream",
     "text": [
      "Exception in Tkinter callback\n",
      "Traceback (most recent call last):\n",
      "  File \"D:\\New folder\\lib\\tkinter\\__init__.py\", line 1892, in __call__\n",
      "    return self.func(*args)\n",
      "  File \"<ipython-input-7-d6d79d808253>\", line 101, in <lambda>\n",
      "    button1 = Button(Health,text='Enter', fg='green', font = ('Arial',14),command = lambda:[enter(),show()])\n",
      "  File \"<ipython-input-7-d6d79d808253>\", line 97, in show\n",
      "    A\n",
      "NameError: name 'A' is not defined\n"
     ]
    },
    {
     "name": "stdout",
     "output_type": "stream",
     "text": [
      "[9]\n"
     ]
    },
    {
     "name": "stderr",
     "output_type": "stream",
     "text": [
      "Exception in Tkinter callback\n",
      "Traceback (most recent call last):\n",
      "  File \"D:\\New folder\\lib\\tkinter\\__init__.py\", line 1892, in __call__\n",
      "    return self.func(*args)\n",
      "  File \"<ipython-input-7-d6d79d808253>\", line 101, in <lambda>\n",
      "    button1 = Button(Health,text='Enter', fg='green', font = ('Arial',14),command = lambda:[enter(),show()])\n",
      "  File \"<ipython-input-7-d6d79d808253>\", line 97, in show\n",
      "    A\n",
      "NameError: name 'A' is not defined\n"
     ]
    }
   ],
   "source": [
    "from tkinter import*\n",
    "from tkinter import messagebox\n",
    "\n",
    "Health = Tk()\n",
    "Health.geometry(\"600x500+10+20\")\n",
    "Health.title(\"Health Monitor\")\n",
    "\n",
    "\n",
    "\n",
    "label1 = Label(Health,text='Enter your Age' , fg='black',font=('Arial',14))\n",
    "label1.grid(row=0,column=0,padx=5,pady=10)\n",
    "age = DoubleVar()\n",
    "textbox1 = Entry(Health,textvariable= age , fg='black',font=('Arial',14))\n",
    "textbox1.grid(row=0,column=1)\n",
    "\n",
    "label2 = Label(Health,text='Enter systolic blood pressure' , fg='black',font=('Arial',14))\n",
    "label2.grid(row=1,column=0,padx=5,pady=10)\n",
    "sbp = DoubleVar()\n",
    "textbox2 = Entry(Health,textvariable= sbp,fg='black',font=('Arial',14))\n",
    "textbox2.grid(row=1,column=1)\n",
    "\n",
    "label3 = Label(Health,text='Enter diasystolic blood pressure' , fg='black',font=('Arial',14))\n",
    "label3.grid(row=2,column=0,padx=5,pady=10)\n",
    "dbp = DoubleVar()\n",
    "textbox3 = Entry(Health,textvariable= dbp,fg='black',font=('Arial',14))\n",
    "textbox3.grid(row=2,column=1)\n",
    "\n",
    "label4 = Label(Health,text='Enter pluse rate' , fg='black',font=('Arial',14))\n",
    "label4.grid(row=3,column=0,padx=5,pady=10)\n",
    "pluse = DoubleVar()\n",
    "textbox4 = Entry(Health,textvariable= pluse,fg='black',font=('Arial',14))\n",
    "textbox4.grid(row=3,column=1)\n",
    "\n",
    "label5 = Label(Health,text='Enter glucoze level' , fg='black',font=('Arial',14))\n",
    "label5.grid(row=4,column=0,padx=5,pady=10)\n",
    "glucoz = DoubleVar()\n",
    "textbox5 = Entry(Health,textvariable= glucoz,fg='black',font=('Arial',14))\n",
    "textbox5.grid(row=4,column=1)\n",
    "\n",
    "label6 = Label(Health,text='Enter oxygen level' , fg='black',font=('Arial',14))\n",
    "label6.grid(row=5,column=0,padx=5,pady=10)\n",
    "oxygen = DoubleVar()\n",
    "textbox6 = Entry(Health,textvariable= oxygen,fg='black',font=('Arial',14))\n",
    "textbox6.grid(row=5,column=1)\n",
    "\n",
    "label7 = Label(Health,text='Enter temprature' , fg='black',font=('Arial',14))\n",
    "label7.grid(row=6,column=0,padx=5,pady=10)\n",
    "tem = DoubleVar()\n",
    "textbox7 = Entry(Health,textvariable= tem,fg='black',font=('Arial',14))\n",
    "textbox7.grid(row=6,column=1)\n",
    "\n",
    "\n",
    "\n",
    "def enter():\n",
    "    Age = age.get()\n",
    "    SBP = sbp.get()\n",
    "    DBP = dbp.get()\n",
    "    rate = pluse.get()\n",
    "    glu = glucoz.get()\n",
    "    o2 = oxygen.get()\n",
    "    temp = tem.get()\n",
    "\n",
    "def show():\n",
    "    \n",
    "    Age = age.get()\n",
    "    SBP = sbp.get()\n",
    "    DBP = dbp.get()\n",
    "    rate = pluse.get()\n",
    "    glu = glucoz.get()\n",
    "    o2 = oxygen.get()\n",
    "    temp = tem.get()\n",
    "    input=[[Age,SBP,DBP,rate,glu,o2,temp]]\n",
    "    output=log.predict(input)\n",
    "    print(output)\n",
    "    \n",
    "    if output==1:\n",
    "        stat=\"you are health, keep doing your daily activities\"\n",
    "    elif output==2:\n",
    "        stat=\"your blood pressure is high. don't take much salty food, go for walk everyday,and do yoga\"\n",
    "    elif output==3:\n",
    "        stat=\"your blood pressure is low. increase your sodium intake and keep exercise\"\n",
    "    elif output==4:\n",
    "        stat=\"your sugar level is high. don't eat much sweet,eat healthy vegetables go for a walk everyday\"\n",
    "    elif output==5:\n",
    "        stat=\"your sugar level is low. drink fruit juice or milk,eat some chocolates to increase your sugar level\"\n",
    "    elif output==6:\n",
    "        stat=\"your oxygen level is low.  seek medical help immidietly.\"\n",
    "    elif output==7:\n",
    "        stat=\"your body temperature is high.Means you are having fever,take medicine, drink more water\"\n",
    "    elif output==8:\n",
    "        stat=\"your pulse rate is high. Do exercise and eat healthy diet, stop drinking and smoking\"\n",
    "    elif output==9:\n",
    "        stat=\"you are at risk. your blood pressure or sugar is high. seek medical help immediately\"\n",
    "    else:\n",
    "        stat=\"You are perfectly fine\"\n",
    "    messagebox.showinfo(\"Health Monitor\" , stat)\n",
    "    A\n",
    "   \n",
    "    \n",
    "\n",
    "button1 = Button(Health,text='Enter', fg='green', font = ('Arial',14),command = lambda:[enter(),show()])\n",
    "button1.grid(row = 9,column=2)\n",
    "\n",
    "Health.mainloop()"
   ]
  },
  {
   "cell_type": "code",
   "execution_count": 21,
   "id": "64377c3e",
   "metadata": {},
   "outputs": [
    {
     "data": {
      "text/plain": [
       "array([[17,  1,  0,  0,  0,  0,  0,  0,  0],\n",
       "       [ 1, 10,  0,  0,  0,  0,  0,  0,  1],\n",
       "       [ 0,  0,  9,  0,  0,  0,  0,  0,  0],\n",
       "       [ 0,  0,  0,  9,  0,  0,  0,  0,  0],\n",
       "       [ 0,  0,  1,  0,  5,  0,  0,  0,  0],\n",
       "       [ 1,  0,  0,  0,  0,  6,  0,  1,  0],\n",
       "       [ 3,  0,  0,  0,  0,  0,  6,  0,  0],\n",
       "       [ 0,  0,  0,  0,  0,  0,  0,  9,  1],\n",
       "       [ 0,  0,  0,  0,  0,  0,  0,  0,  6]], dtype=int64)"
      ]
     },
     "execution_count": 21,
     "metadata": {},
     "output_type": "execute_result"
    }
   ],
   "source": [
    "from sklearn.metrics import confusion_matrix,classification_report\n",
    "cnf_matrix = confusion_matrix(y_test, y_pred)\n",
    "cnf_matrix"
   ]
  },
  {
   "cell_type": "code",
   "execution_count": 22,
   "id": "f77e02a3",
   "metadata": {},
   "outputs": [
    {
     "name": "stdout",
     "output_type": "stream",
     "text": [
      "              precision    recall  f1-score   support\n",
      "\n",
      "           1       0.77      0.94      0.85        18\n",
      "           2       0.91      0.83      0.87        12\n",
      "           3       0.90      1.00      0.95         9\n",
      "           4       1.00      1.00      1.00         9\n",
      "           5       1.00      0.83      0.91         6\n",
      "           6       1.00      0.75      0.86         8\n",
      "           7       1.00      0.67      0.80         9\n",
      "           8       0.90      0.90      0.90        10\n",
      "           9       0.75      1.00      0.86         6\n",
      "\n",
      "    accuracy                           0.89        87\n",
      "   macro avg       0.91      0.88      0.89        87\n",
      "weighted avg       0.90      0.89      0.88        87\n",
      "\n"
     ]
    }
   ],
   "source": [
    "print(classification_report(y_test,y_pred))"
   ]
  }
 ],
 "metadata": {
  "kernelspec": {
   "display_name": "Python 3",
   "language": "python",
   "name": "python3"
  },
  "language_info": {
   "codemirror_mode": {
    "name": "ipython",
    "version": 3
   },
   "file_extension": ".py",
   "mimetype": "text/x-python",
   "name": "python",
   "nbconvert_exporter": "python",
   "pygments_lexer": "ipython3",
   "version": "3.8.8"
  }
 },
 "nbformat": 4,
 "nbformat_minor": 5
}
