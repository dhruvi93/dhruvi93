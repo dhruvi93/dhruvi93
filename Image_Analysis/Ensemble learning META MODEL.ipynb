{
 "cells": [
  {
   "cell_type": "code",
   "execution_count": 2,
   "id": "063cb749",
   "metadata": {},
   "outputs": [],
   "source": [
    "import pickle\n",
    "pickle_in = open(\"X_train.pickle\",\"rb\")\n",
    "X_train = pickle.load(pickle_in)\n",
    "\n",
    "pickle_in = open(\"X_test.pickle\",\"rb\")\n",
    "X_test = pickle.load(pickle_in)\n",
    "\n",
    "pickle_in = open(\"y_train.pickle\",\"rb\")\n",
    "y_train = pickle.load(pickle_in)\n",
    "\n",
    "pickle_in = open(\"y_test.pickle\",\"rb\")\n",
    "y_test = pickle.load(pickle_in)\n"
   ]
  },
  {
   "cell_type": "code",
   "execution_count": 4,
   "id": "29b59eb3",
   "metadata": {},
   "outputs": [
    {
     "name": "stdout",
     "output_type": "stream",
     "text": [
      "(1050,) (4200, 100, 100, 1)\n",
      "(1050, 100, 100, 1) (4200,)\n"
     ]
    }
   ],
   "source": [
    "print(y_test.shape,X_train.shape)\n",
    "print(X_test.shape,y_train.shape)"
   ]
  },
  {
   "cell_type": "code",
   "execution_count": 5,
   "id": "6df731c7",
   "metadata": {},
   "outputs": [
    {
     "name": "stdout",
     "output_type": "stream",
     "text": [
      "(4200,) (1050,)\n"
     ]
    }
   ],
   "source": [
    "trainX, testX = X_train, X_test\n",
    "trainy, testy = y_train, y_test\n",
    "print(trainy.shape, testy.shape)"
   ]
  },
  {
   "cell_type": "code",
   "execution_count": 7,
   "id": "e01312a1",
   "metadata": {},
   "outputs": [],
   "source": [
    "from sklearn.datasets import make_blobs\n",
    "from sklearn.metrics import accuracy_score\n",
    "from tensorflow.keras.utils import plot_model\n",
    "from keras.models import load_model\n",
    "from keras.models import Model\n",
    "from keras.layers import Input\n",
    "from keras.layers import Dense\n",
    "from keras.layers.merge import concatenate\n",
    "from numpy import argmax"
   ]
  },
  {
   "cell_type": "code",
   "execution_count": 12,
   "id": "774b9064",
   "metadata": {},
   "outputs": [],
   "source": [
    "# load models from file\n",
    "def load_all_models(n_models):\n",
    "\tall_models = list()\n",
    "\tfor i in range(n_models):\n",
    "\t\t# define filename for this ensemble\n",
    "\t\tfilename = 'modelss/model_' + str(i + 1) + '.h5'\n",
    "\t\t# load model from file\n",
    "\t\tmodel = load_model(filename)\n",
    "\t\t# add to list of members\n",
    "\t\tall_models.append(model)\n",
    "\t\tprint('>loaded %s' % filename)\n",
    "\treturn all_models\n",
    " "
   ]
  },
  {
   "cell_type": "code",
   "execution_count": 45,
   "id": "7322972d",
   "metadata": {},
   "outputs": [],
   "source": [
    "# define stacked model from multiple member input models\n",
    "def define_stacked_model(members):\n",
    "\t# update all layers in all models to not be trainable\n",
    "\tfor i in range(len(members)):\n",
    "\t\tmodel = members[i]\n",
    "\t\tfor layer in model.layers:\n",
    "\t\t\t# make not trainable\n",
    "\t\t\tlayer.trainable = False\n",
    "\t\t\t# rename to avoid 'unique layer name' issue\n",
    "\t\t\tlayer._name = 'ensemble_' + str(i+1) + '_' + layer.name\n",
    "\t# define multi-headed input\n",
    "\tensemble_visible = [model.input for model in members]\n",
    "\t# concatenate merge output from each model\n",
    "\tensemble_outputs = [model.output for model in members]\n",
    "\tmerge = concatenate(ensemble_outputs)\n",
    "\thidden = Dense(64, activation='relu')(merge)\n",
    "\toutput = Dense(1, activation='softmax')(hidden)\n",
    "\tmodel = Model(inputs=ensemble_visible, outputs=output)\n",
    "\t# plot graph of ensemble\n",
    "\tplot_model(model, show_shapes=True, to_file='model_graph.png')\n",
    "\t# compile\n",
    "\tmodel.compile(loss='binary_crossentropy',optimizer='adam',metrics=['accuracy'])\n",
    "\treturn model"
   ]
  },
  {
   "cell_type": "code",
   "execution_count": 49,
   "id": "ef0fabd0",
   "metadata": {},
   "outputs": [],
   "source": [
    "# fit a stacked model\n",
    "def fit_stacked_model(model, inputX, inputy):\n",
    "\t# prepare input data\n",
    "\tX = [inputX for _ in range(len(model.input))]\n",
    "    #inputy=np.asarray(inputy).astype('float32').reshape((-1,1))\n",
    "\t#inputy=np.asarray(inputy).astype('float32').reshape((-1,1))\n",
    "\tmodel.fit(X, inputy, epochs=30)"
   ]
  },
  {
   "cell_type": "code",
   "execution_count": 50,
   "id": "34a88de4",
   "metadata": {},
   "outputs": [],
   "source": [
    "# make a prediction with a stacked model\n",
    "def predict_stacked_model(model, inputX):\n",
    "\t# prepare input data\n",
    "\tX = [inputX for _ in range(len(model.input))]\n",
    "\t# make prediction\n",
    "\treturn model.predict(X, verbose=0)"
   ]
  },
  {
   "cell_type": "code",
   "execution_count": 51,
   "id": "dd809c8e",
   "metadata": {},
   "outputs": [
    {
     "name": "stdout",
     "output_type": "stream",
     "text": [
      ">loaded modelss/model_1.h5\n",
      ">loaded modelss/model_2.h5\n",
      ">loaded modelss/model_3.h5\n",
      "Loaded 3 models\n",
      "('You must install pydot (`pip install pydot`) and install graphviz (see instructions at https://graphviz.gitlab.io/download/) ', 'for plot_model/model_to_dot to work.')\n",
      "Epoch 1/30\n",
      "33/33 [==============================] - 99s 3s/step - loss: 0.6436 - accuracy: 0.4048\n",
      "Epoch 2/30\n",
      "33/33 [==============================] - 95s 3s/step - loss: 0.5889 - accuracy: 0.4048\n",
      "Epoch 3/30\n",
      "33/33 [==============================] - 95s 3s/step - loss: 0.5387 - accuracy: 0.4048\n",
      "Epoch 4/30\n",
      "33/33 [==============================] - 95s 3s/step - loss: 0.4965 - accuracy: 0.4048\n",
      "Epoch 5/30\n",
      "33/33 [==============================] - 96s 3s/step - loss: 0.4661 - accuracy: 0.4048\n",
      "Epoch 6/30\n",
      "33/33 [==============================] - 97s 3s/step - loss: 0.4480 - accuracy: 0.4048\n",
      "Epoch 7/30\n",
      "33/33 [==============================] - 97s 3s/step - loss: 0.4379 - accuracy: 0.4048\n",
      "Epoch 8/30\n",
      "33/33 [==============================] - 95s 3s/step - loss: 0.4326 - accuracy: 0.4048\n",
      "Epoch 9/30\n",
      "33/33 [==============================] - 94s 3s/step - loss: 0.4307 - accuracy: 0.4048\n",
      "Epoch 10/30\n",
      "33/33 [==============================] - 95s 3s/step - loss: 0.4299 - accuracy: 0.4048\n",
      "Epoch 11/30\n",
      "33/33 [==============================] - 93s 3s/step - loss: 0.4293 - accuracy: 0.4048\n",
      "Epoch 12/30\n",
      "33/33 [==============================] - 93s 3s/step - loss: 0.4286 - accuracy: 0.4048\n",
      "Epoch 13/30\n",
      "33/33 [==============================] - 94s 3s/step - loss: 0.4287 - accuracy: 0.4048\n",
      "Epoch 14/30\n",
      "33/33 [==============================] - 91s 3s/step - loss: 0.4283 - accuracy: 0.4048\n",
      "Epoch 15/30\n",
      "33/33 [==============================] - 99s 3s/step - loss: 0.4283 - accuracy: 0.4048\n",
      "Epoch 16/30\n",
      "33/33 [==============================] - 101s 3s/step - loss: 0.4285 - accuracy: 0.4048\n",
      "Epoch 17/30\n",
      "33/33 [==============================] - 102s 3s/step - loss: 0.4281 - accuracy: 0.4048\n",
      "Epoch 18/30\n",
      "33/33 [==============================] - 99s 3s/step - loss: 0.4280 - accuracy: 0.4048\n",
      "Epoch 19/30\n",
      "33/33 [==============================] - 100s 3s/step - loss: 0.4281 - accuracy: 0.4048\n",
      "Epoch 20/30\n",
      "33/33 [==============================] - 98s 3s/step - loss: 0.4283 - accuracy: 0.4048\n",
      "Epoch 21/30\n",
      "33/33 [==============================] - 92s 3s/step - loss: 0.4283 - accuracy: 0.4048\n",
      "Epoch 22/30\n",
      "33/33 [==============================] - 88s 3s/step - loss: 0.4282 - accuracy: 0.4048\n",
      "Epoch 23/30\n",
      "33/33 [==============================] - 90s 3s/step - loss: 0.4286 - accuracy: 0.4048\n",
      "Epoch 24/30\n",
      "33/33 [==============================] - 92s 3s/step - loss: 0.4278 - accuracy: 0.4048\n",
      "Epoch 25/30\n",
      "33/33 [==============================] - 90s 3s/step - loss: 0.4282 - accuracy: 0.4048\n",
      "Epoch 26/30\n",
      "33/33 [==============================] - 94s 3s/step - loss: 0.4275 - accuracy: 0.4048\n",
      "Epoch 27/30\n",
      "33/33 [==============================] - 88s 3s/step - loss: 0.4274 - accuracy: 0.4048\n",
      "Epoch 28/30\n",
      "33/33 [==============================] - 88s 3s/step - loss: 0.4273 - accuracy: 0.4048\n",
      "Epoch 29/30\n",
      "33/33 [==============================] - 89s 3s/step - loss: 0.4276 - accuracy: 0.4048\n",
      "Epoch 30/30\n",
      "33/33 [==============================] - 87s 3s/step - loss: 0.4282 - accuracy: 0.4048\n",
      "Stacked Test Accuracy: 0.595\n"
     ]
    }
   ],
   "source": [
    "import numpy as np\n",
    "# load all models\n",
    "n_members = 3\n",
    "members = load_all_models(n_members)\n",
    "print('Loaded %d models' % len(members))\n",
    "# define ensemble model\n",
    "stacked_model = define_stacked_model(members)\n",
    "# fit stacked model on test dataset\n",
    "fit_stacked_model(stacked_model, testX, testy)\n",
    "# make predictions and evaluate\n",
    "yhat = predict_stacked_model(stacked_model, testX)\n",
    "yhat = argmax(yhat, axis=1)\n",
    "acc = accuracy_score(testy, yhat)\n",
    "print('Stacked Test Accuracy: %.3f' % acc)"
   ]
  },
  {
   "cell_type": "code",
   "execution_count": null,
   "id": "481db71d",
   "metadata": {},
   "outputs": [],
   "source": []
  },
  {
   "cell_type": "code",
   "execution_count": null,
   "id": "239b0fa2",
   "metadata": {},
   "outputs": [],
   "source": []
  },
  {
   "cell_type": "code",
   "execution_count": null,
   "id": "5d96a2e7",
   "metadata": {},
   "outputs": [],
   "source": []
  },
  {
   "cell_type": "code",
   "execution_count": null,
   "id": "0018cf78",
   "metadata": {},
   "outputs": [],
   "source": []
  },
  {
   "cell_type": "code",
   "execution_count": null,
   "id": "212a8d80",
   "metadata": {},
   "outputs": [],
   "source": []
  },
  {
   "cell_type": "code",
   "execution_count": null,
   "id": "41ccdd1f",
   "metadata": {},
   "outputs": [],
   "source": []
  },
  {
   "cell_type": "code",
   "execution_count": null,
   "id": "5bf0ea25",
   "metadata": {},
   "outputs": [],
   "source": []
  },
  {
   "cell_type": "code",
   "execution_count": null,
   "id": "b9fddd39",
   "metadata": {},
   "outputs": [],
   "source": []
  },
  {
   "cell_type": "code",
   "execution_count": null,
   "id": "0c8346bb",
   "metadata": {},
   "outputs": [],
   "source": []
  },
  {
   "cell_type": "code",
   "execution_count": null,
   "id": "bd1c9fc1",
   "metadata": {},
   "outputs": [],
   "source": []
  },
  {
   "cell_type": "code",
   "execution_count": null,
   "id": "49f723d8",
   "metadata": {},
   "outputs": [],
   "source": []
  }
 ],
 "metadata": {
  "kernelspec": {
   "display_name": "Python 3",
   "language": "python",
   "name": "python3"
  },
  "language_info": {
   "codemirror_mode": {
    "name": "ipython",
    "version": 3
   },
   "file_extension": ".py",
   "mimetype": "text/x-python",
   "name": "python",
   "nbconvert_exporter": "python",
   "pygments_lexer": "ipython3",
   "version": "3.8.8"
  }
 },
 "nbformat": 4,
 "nbformat_minor": 5
}
