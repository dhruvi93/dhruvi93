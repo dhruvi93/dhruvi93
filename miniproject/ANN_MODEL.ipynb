{
  "nbformat": 4,
  "nbformat_minor": 0,
  "metadata": {
    "colab": {
      "name": "ANN_MODEL",
      "provenance": [],
      "collapsed_sections": []
    },
    "kernelspec": {
      "name": "python3",
      "display_name": "Python 3"
    },
    "language_info": {
      "name": "python"
    }
  },
  "cells": [
    {
      "cell_type": "markdown",
      "source": [
        "##Artificial Neural Network"
      ],
      "metadata": {
        "id": "5JWzUfqnegl_"
      }
    },
    {
      "cell_type": "code",
      "metadata": {
        "colab": {
          "base_uri": "https://localhost:8080/"
        },
        "id": "_QnNqe9A_XNu",
        "outputId": "d3764f86-304f-4796-8cc3-90c40034d171"
      },
      "source": [
        "from google.colab import drive\n",
        "drive.mount('/content/gdrive')"
      ],
      "execution_count": null,
      "outputs": [
        {
          "output_type": "stream",
          "text": [
            "Drive already mounted at /content/gdrive; to attempt to forcibly remount, call drive.mount(\"/content/gdrive\", force_remount=True).\n"
          ],
          "name": "stdout"
        }
      ]
    },
    {
      "cell_type": "markdown",
      "metadata": {
        "id": "NoFg6JNeAJPU"
      },
      "source": [
        "Path: /content/gdrive/My Drive/Colab Notebooks/ANN-Dataset.csv"
      ]
    },
    {
      "cell_type": "code",
      "metadata": {
        "id": "6nkT7Daibdvr"
      },
      "source": [
        "# Import the libraries\n",
        " \n",
        "import pandas as pd\n",
        "import matplotlib.pyplot as plt\n",
        "import numpy as np"
      ],
      "execution_count": null,
      "outputs": []
    },
    {
      "cell_type": "code",
      "metadata": {
        "id": "KCvHVv68bpxS"
      },
      "source": [
        "#importing the dataset\n",
        "dataset=pd.read_csv('/content/ANN-Dataset.csv')\n",
        " \n",
        "x=dataset.iloc[:,2:].values\n",
        "y=dataset.iloc[:,1].values"
      ],
      "execution_count": null,
      "outputs": []
    },
    {
      "cell_type": "code",
      "metadata": {
        "colab": {
          "base_uri": "https://localhost:8080/"
        },
        "id": "uB_4DAkKooXw",
        "outputId": "e24e74ec-5964-41b7-8cbd-e84321018721"
      },
      "source": [
        "dataset.shape"
      ],
      "execution_count": null,
      "outputs": [
        {
          "output_type": "execute_result",
          "data": {
            "text/plain": [
              "(569, 33)"
            ]
          },
          "metadata": {
            "tags": []
          },
          "execution_count": 32
        }
      ]
    },
    {
      "cell_type": "code",
      "metadata": {
        "id": "sfomRaSOMjcE"
      },
      "source": [
        "# Encoding Categorical Data\n",
        "from sklearn.preprocessing import LabelEncoder, OneHotEncoder\n",
        "labelencoder_y_1 = LabelEncoder()\n",
        "y = labelencoder_y_1.fit_transform(y)"
      ],
      "execution_count": null,
      "outputs": []
    },
    {
      "cell_type": "code",
      "metadata": {
        "id": "CUXA8Vrsb9lK"
      },
      "source": [
        "from sklearn.model_selection import train_test_split\n",
        "x_train, x_test, y_train, y_test = train_test_split(x, y, test_size = 0.25, random_state = 0)"
      ],
      "execution_count": null,
      "outputs": []
    },
    {
      "cell_type": "code",
      "metadata": {
        "id": "uYr5gBlwdWdS",
        "colab": {
          "base_uri": "https://localhost:8080/"
        },
        "outputId": "b692292b-d24b-4b38-e692-a3e4ab6156f7"
      },
      "source": [
        "#Feature Scaling\n",
        "from sklearn.preprocessing import StandardScaler\n",
        "sc = StandardScaler()\n",
        "x_train = sc.fit_transform(x_train)\n",
        "x_test = sc.transform(x_test)"
      ],
      "execution_count": null,
      "outputs": [
        {
          "output_type": "stream",
          "text": [
            "/usr/local/lib/python3.7/dist-packages/sklearn/utils/extmath.py:765: RuntimeWarning: invalid value encountered in true_divide\n",
            "  updated_mean = (last_sum + new_sum) / updated_sample_count\n",
            "/usr/local/lib/python3.7/dist-packages/sklearn/utils/extmath.py:706: RuntimeWarning: Degrees of freedom <= 0 for slice.\n",
            "  result = op(x, *args, **kwargs)\n"
          ],
          "name": "stderr"
        }
      ]
    },
    {
      "cell_type": "code",
      "metadata": {
        "id": "sHCTl6Lre-Dx"
      },
      "source": [
        "# Importing Keras library and it's packages\n",
        "import keras\n",
        "from keras.models import Sequential\n",
        "from keras.layers import Dense, Dropout"
      ],
      "execution_count": null,
      "outputs": []
    },
    {
      "cell_type": "code",
      "metadata": {
        "colab": {
          "base_uri": "https://localhost:8080/"
        },
        "id": "PbH7LyWyTll8",
        "outputId": "cdad9bd6-5d40-422e-f880-efec93719f19"
      },
      "source": [
        "# Initialising the ANN\n",
        " \n",
        "classifier = Sequential()\n",
        " \n",
        "# Adding the input layer and first hidden layer\n",
        "classifier.add(Dense(16 ,kernel_initializer = 'uniform' ,activation = 'relu' , input_dim = 31))\n",
        " \n",
        "# Adding second hidden layer\n",
        "classifier.add(Dense(16 ,kernel_initializer = 'uniform' ,activation = 'relu'))\n",
        " \n",
        "# Adding third hidden layer\n",
        "classifier.add(Dense(16 ,kernel_initializer = 'uniform' ,activation = 'relu'))\n",
        " \n",
        "# Adding an output layer\n",
        "classifier.add(Dense(1 ,kernel_initializer = 'uniform' ,activation = 'sigmoid'))\n",
        " \n",
        "# Compiling the ANN\n",
        "classifier.compile(optimizer = 'adam', loss = 'binary_crossentropy', metrics = ['accuracy'])\n",
        " \n",
        "# Fitting the ANN to the training set\n",
        "classifier.fit(x_train, y_train, batch_size = 10, epochs = 100)"
      ],
      "execution_count": null,
      "outputs": [
        {
          "output_type": "stream",
          "text": [
            "Epoch 1/100\n",
            "43/43 [==============================] - 1s 1ms/step - loss: nan - accuracy: 0.5973\n",
            "Epoch 2/100\n",
            "43/43 [==============================] - 0s 1ms/step - loss: nan - accuracy: 0.6095\n",
            "Epoch 3/100\n",
            "43/43 [==============================] - 0s 1ms/step - loss: nan - accuracy: 0.6288\n",
            "Epoch 4/100\n",
            "43/43 [==============================] - 0s 1ms/step - loss: nan - accuracy: 0.6452\n",
            "Epoch 5/100\n",
            "43/43 [==============================] - 0s 2ms/step - loss: nan - accuracy: 0.6116\n",
            "Epoch 6/100\n",
            "43/43 [==============================] - 0s 1ms/step - loss: nan - accuracy: 0.6272\n",
            "Epoch 7/100\n",
            "43/43 [==============================] - 0s 2ms/step - loss: nan - accuracy: 0.6097\n",
            "Epoch 8/100\n",
            "43/43 [==============================] - 0s 2ms/step - loss: nan - accuracy: 0.6459\n",
            "Epoch 9/100\n",
            "43/43 [==============================] - 0s 1ms/step - loss: nan - accuracy: 0.5876\n",
            "Epoch 10/100\n",
            "43/43 [==============================] - 0s 2ms/step - loss: nan - accuracy: 0.6409\n",
            "Epoch 11/100\n",
            "43/43 [==============================] - 0s 2ms/step - loss: nan - accuracy: 0.6168\n",
            "Epoch 12/100\n",
            "43/43 [==============================] - 0s 1ms/step - loss: nan - accuracy: 0.6240\n",
            "Epoch 13/100\n",
            "43/43 [==============================] - 0s 2ms/step - loss: nan - accuracy: 0.6135\n",
            "Epoch 14/100\n",
            "43/43 [==============================] - 0s 1ms/step - loss: nan - accuracy: 0.6085\n",
            "Epoch 15/100\n",
            "43/43 [==============================] - 0s 2ms/step - loss: nan - accuracy: 0.6382\n",
            "Epoch 16/100\n",
            "43/43 [==============================] - 0s 2ms/step - loss: nan - accuracy: 0.6290\n",
            "Epoch 17/100\n",
            "43/43 [==============================] - 0s 1ms/step - loss: nan - accuracy: 0.5992\n",
            "Epoch 18/100\n",
            "43/43 [==============================] - 0s 2ms/step - loss: nan - accuracy: 0.6356\n",
            "Epoch 19/100\n",
            "43/43 [==============================] - 0s 1ms/step - loss: nan - accuracy: 0.6291\n",
            "Epoch 20/100\n",
            "43/43 [==============================] - 0s 1ms/step - loss: nan - accuracy: 0.5756\n",
            "Epoch 21/100\n",
            "43/43 [==============================] - 0s 2ms/step - loss: nan - accuracy: 0.6724\n",
            "Epoch 22/100\n",
            "43/43 [==============================] - 0s 2ms/step - loss: nan - accuracy: 0.6238\n",
            "Epoch 23/100\n",
            "43/43 [==============================] - 0s 1ms/step - loss: nan - accuracy: 0.6546\n",
            "Epoch 24/100\n",
            "43/43 [==============================] - 0s 1ms/step - loss: nan - accuracy: 0.6508\n",
            "Epoch 25/100\n",
            "43/43 [==============================] - 0s 1ms/step - loss: nan - accuracy: 0.6643\n",
            "Epoch 26/100\n",
            "43/43 [==============================] - 0s 1ms/step - loss: nan - accuracy: 0.5622\n",
            "Epoch 27/100\n",
            "43/43 [==============================] - 0s 1ms/step - loss: nan - accuracy: 0.5994\n",
            "Epoch 28/100\n",
            "43/43 [==============================] - 0s 2ms/step - loss: nan - accuracy: 0.5984\n",
            "Epoch 29/100\n",
            "43/43 [==============================] - 0s 1ms/step - loss: nan - accuracy: 0.6096\n",
            "Epoch 30/100\n",
            "43/43 [==============================] - 0s 2ms/step - loss: nan - accuracy: 0.6189\n",
            "Epoch 31/100\n",
            "43/43 [==============================] - 0s 1ms/step - loss: nan - accuracy: 0.6151\n",
            "Epoch 32/100\n",
            "43/43 [==============================] - 0s 1ms/step - loss: nan - accuracy: 0.6064\n",
            "Epoch 33/100\n",
            "43/43 [==============================] - 0s 2ms/step - loss: nan - accuracy: 0.6428\n",
            "Epoch 34/100\n",
            "43/43 [==============================] - 0s 2ms/step - loss: nan - accuracy: 0.5987\n",
            "Epoch 35/100\n",
            "43/43 [==============================] - 0s 2ms/step - loss: nan - accuracy: 0.6071\n",
            "Epoch 36/100\n",
            "43/43 [==============================] - 0s 1ms/step - loss: nan - accuracy: 0.6500\n",
            "Epoch 37/100\n",
            "43/43 [==============================] - 0s 1ms/step - loss: nan - accuracy: 0.6370\n",
            "Epoch 38/100\n",
            "43/43 [==============================] - 0s 2ms/step - loss: nan - accuracy: 0.6402\n",
            "Epoch 39/100\n",
            "43/43 [==============================] - 0s 2ms/step - loss: nan - accuracy: 0.6357\n",
            "Epoch 40/100\n",
            "43/43 [==============================] - 0s 2ms/step - loss: nan - accuracy: 0.6462\n",
            "Epoch 41/100\n",
            "43/43 [==============================] - 0s 1ms/step - loss: nan - accuracy: 0.6644\n",
            "Epoch 42/100\n",
            "43/43 [==============================] - 0s 1ms/step - loss: nan - accuracy: 0.5936\n",
            "Epoch 43/100\n",
            "43/43 [==============================] - 0s 1ms/step - loss: nan - accuracy: 0.6459\n",
            "Epoch 44/100\n",
            "43/43 [==============================] - 0s 1ms/step - loss: nan - accuracy: 0.6029\n",
            "Epoch 45/100\n",
            "43/43 [==============================] - 0s 2ms/step - loss: nan - accuracy: 0.6330\n",
            "Epoch 46/100\n",
            "43/43 [==============================] - 0s 1ms/step - loss: nan - accuracy: 0.6468\n",
            "Epoch 47/100\n",
            "43/43 [==============================] - 0s 1ms/step - loss: nan - accuracy: 0.6218\n",
            "Epoch 48/100\n",
            "43/43 [==============================] - 0s 1ms/step - loss: nan - accuracy: 0.6320\n",
            "Epoch 49/100\n",
            "43/43 [==============================] - 0s 1ms/step - loss: nan - accuracy: 0.6666\n",
            "Epoch 50/100\n",
            "43/43 [==============================] - 0s 1ms/step - loss: nan - accuracy: 0.6513\n",
            "Epoch 51/100\n",
            "43/43 [==============================] - 0s 2ms/step - loss: nan - accuracy: 0.6532\n",
            "Epoch 52/100\n",
            "43/43 [==============================] - 0s 2ms/step - loss: nan - accuracy: 0.6829\n",
            "Epoch 53/100\n",
            "43/43 [==============================] - 0s 2ms/step - loss: nan - accuracy: 0.6356\n",
            "Epoch 54/100\n",
            "43/43 [==============================] - 0s 1ms/step - loss: nan - accuracy: 0.6028\n",
            "Epoch 55/100\n",
            "43/43 [==============================] - 0s 1ms/step - loss: nan - accuracy: 0.6319\n",
            "Epoch 56/100\n",
            "43/43 [==============================] - 0s 2ms/step - loss: nan - accuracy: 0.6591\n",
            "Epoch 57/100\n",
            "43/43 [==============================] - 0s 1ms/step - loss: nan - accuracy: 0.6207\n",
            "Epoch 58/100\n",
            "43/43 [==============================] - 0s 1ms/step - loss: nan - accuracy: 0.6122\n",
            "Epoch 59/100\n",
            "43/43 [==============================] - 0s 1ms/step - loss: nan - accuracy: 0.6351\n",
            "Epoch 60/100\n",
            "43/43 [==============================] - 0s 1ms/step - loss: nan - accuracy: 0.6522\n",
            "Epoch 61/100\n",
            "43/43 [==============================] - 0s 1ms/step - loss: nan - accuracy: 0.6033\n",
            "Epoch 62/100\n",
            "43/43 [==============================] - 0s 1ms/step - loss: nan - accuracy: 0.6243\n",
            "Epoch 63/100\n",
            "43/43 [==============================] - 0s 2ms/step - loss: nan - accuracy: 0.6297\n",
            "Epoch 64/100\n",
            "43/43 [==============================] - 0s 2ms/step - loss: nan - accuracy: 0.6289\n",
            "Epoch 65/100\n",
            "43/43 [==============================] - 0s 2ms/step - loss: nan - accuracy: 0.6373\n",
            "Epoch 66/100\n",
            "43/43 [==============================] - 0s 2ms/step - loss: nan - accuracy: 0.6464\n",
            "Epoch 67/100\n",
            "43/43 [==============================] - 0s 1ms/step - loss: nan - accuracy: 0.6270\n",
            "Epoch 68/100\n",
            "43/43 [==============================] - 0s 1ms/step - loss: nan - accuracy: 0.6248\n",
            "Epoch 69/100\n",
            "43/43 [==============================] - 0s 2ms/step - loss: nan - accuracy: 0.6471\n",
            "Epoch 70/100\n",
            "43/43 [==============================] - 0s 2ms/step - loss: nan - accuracy: 0.6155\n",
            "Epoch 71/100\n",
            "43/43 [==============================] - 0s 2ms/step - loss: nan - accuracy: 0.6452\n",
            "Epoch 72/100\n",
            "43/43 [==============================] - 0s 2ms/step - loss: nan - accuracy: 0.6272\n",
            "Epoch 73/100\n",
            "43/43 [==============================] - 0s 1ms/step - loss: nan - accuracy: 0.6363\n",
            "Epoch 74/100\n",
            "43/43 [==============================] - 0s 2ms/step - loss: nan - accuracy: 0.6086\n",
            "Epoch 75/100\n",
            "43/43 [==============================] - 0s 2ms/step - loss: nan - accuracy: 0.6549\n",
            "Epoch 76/100\n",
            "43/43 [==============================] - 0s 2ms/step - loss: nan - accuracy: 0.5887\n",
            "Epoch 77/100\n",
            "43/43 [==============================] - 0s 2ms/step - loss: nan - accuracy: 0.6255\n",
            "Epoch 78/100\n",
            "43/43 [==============================] - 0s 2ms/step - loss: nan - accuracy: 0.6363\n",
            "Epoch 79/100\n",
            "43/43 [==============================] - 0s 2ms/step - loss: nan - accuracy: 0.6111\n",
            "Epoch 80/100\n",
            "43/43 [==============================] - 0s 1ms/step - loss: nan - accuracy: 0.6219\n",
            "Epoch 81/100\n",
            "43/43 [==============================] - 0s 1ms/step - loss: nan - accuracy: 0.6116\n",
            "Epoch 82/100\n",
            "43/43 [==============================] - 0s 1ms/step - loss: nan - accuracy: 0.6442\n",
            "Epoch 83/100\n",
            "43/43 [==============================] - 0s 2ms/step - loss: nan - accuracy: 0.5895\n",
            "Epoch 84/100\n",
            "43/43 [==============================] - 0s 2ms/step - loss: nan - accuracy: 0.6084\n",
            "Epoch 85/100\n",
            "43/43 [==============================] - 0s 2ms/step - loss: nan - accuracy: 0.6465\n",
            "Epoch 86/100\n",
            "43/43 [==============================] - 0s 1ms/step - loss: nan - accuracy: 0.6414\n",
            "Epoch 87/100\n",
            "43/43 [==============================] - 0s 2ms/step - loss: nan - accuracy: 0.6505\n",
            "Epoch 88/100\n",
            "43/43 [==============================] - 0s 2ms/step - loss: nan - accuracy: 0.6219\n",
            "Epoch 89/100\n",
            "43/43 [==============================] - 0s 2ms/step - loss: nan - accuracy: 0.6874\n",
            "Epoch 90/100\n",
            "43/43 [==============================] - 0s 2ms/step - loss: nan - accuracy: 0.6442\n",
            "Epoch 91/100\n",
            "43/43 [==============================] - 0s 2ms/step - loss: nan - accuracy: 0.6243\n",
            "Epoch 92/100\n",
            "43/43 [==============================] - 0s 2ms/step - loss: nan - accuracy: 0.6460\n",
            "Epoch 93/100\n",
            "43/43 [==============================] - 0s 2ms/step - loss: nan - accuracy: 0.6374\n",
            "Epoch 94/100\n",
            "43/43 [==============================] - 0s 1ms/step - loss: nan - accuracy: 0.6154\n",
            "Epoch 95/100\n",
            "43/43 [==============================] - 0s 2ms/step - loss: nan - accuracy: 0.5835\n",
            "Epoch 96/100\n",
            "43/43 [==============================] - 0s 1ms/step - loss: nan - accuracy: 0.6266\n",
            "Epoch 97/100\n",
            "43/43 [==============================] - 0s 1ms/step - loss: nan - accuracy: 0.6291\n",
            "Epoch 98/100\n",
            "43/43 [==============================] - 0s 1ms/step - loss: nan - accuracy: 0.6152\n",
            "Epoch 99/100\n",
            "43/43 [==============================] - 0s 1ms/step - loss: nan - accuracy: 0.6090\n",
            "Epoch 100/100\n",
            "43/43 [==============================] - 0s 2ms/step - loss: nan - accuracy: 0.6503\n"
          ],
          "name": "stdout"
        },
        {
          "output_type": "execute_result",
          "data": {
            "text/plain": [
              "<keras.callbacks.History at 0x7f352b4de510>"
            ]
          },
          "metadata": {
            "tags": []
          },
          "execution_count": 49
        }
      ]
    },
    {
      "cell_type": "code",
      "metadata": {
        "id": "Htwz5mVagBrR"
      },
      "source": [
        "# Predicting the Test set results\n",
        "y_pred = classifier.predict(x_test)\n",
        "y_pred = (y_pred > 0.5)\n",
        "# Making the Confusion Matrix\n",
        "from sklearn.metrics import confusion_matrix\n",
        "cm = confusion_matrix(y_test, y_pred)"
      ],
      "execution_count": null,
      "outputs": []
    },
    {
      "cell_type": "code",
      "metadata": {
        "id": "nxZ7vPVMUnjw"
      },
      "source": [
        "from sklearn.metrics import confusion_matrix\n",
        "cm=confusion_matrix(y_test,y_pred)\n",
        "cm"
      ],
      "execution_count": null,
      "outputs": []
    }
  ]
}