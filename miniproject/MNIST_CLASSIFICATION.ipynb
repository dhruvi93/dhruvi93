{
  "nbformat": 4,
  "nbformat_minor": 0,
  "metadata": {
    "colab": {
      "name": "MNIST_CLASSIFICATION",
      "provenance": []
    },
    "kernelspec": {
      "name": "python3",
      "display_name": "Python 3"
    },
    "language_info": {
      "name": "python"
    },
    "accelerator": "GPU"
  },
  "cells": [
    {
      "cell_type": "markdown",
      "source": [
        "##Image classification of MNIST DATASET"
      ],
      "metadata": {
        "id": "s1kc5_6JSG_U"
      }
    },
    {
      "cell_type": "code",
      "metadata": {
        "id": "4fo8QD0HWohf"
      },
      "source": [
        "from keras.datasets import mnist\n",
        "from keras.models import Sequential\n",
        "from keras.layers import Dense, Dropout, Conv2D, MaxPool2D, Flatten\n",
        "from keras.utils import np_utils\n",
        "from keras import backend as k"
      ],
      "execution_count": null,
      "outputs": []
    },
    {
      "cell_type": "code",
      "metadata": {
        "id": "hNLPO1LaYT6S"
      },
      "source": [
        "(X_train, y_train), (X_test, y_test) = mnist.load_data()"
      ],
      "execution_count": null,
      "outputs": []
    },
    {
      "cell_type": "code",
      "metadata": {
        "id": "r5jA0swGauvr"
      },
      "source": [
        "#this assumes our data format\n",
        "#For 3D data, \"channels_last\" assumes (conv_dim1, conv_dim2, conv_dim3, channels) while \n",
        "#\"channels_first\" assumes (channels, conv_dim1, conv_dim2, conv_dim3).\n",
        "img_rows,img_cols=28,28\n",
        "if k.image_data_format() == 'channels_first':\n",
        "    X_train = X_train.reshape(X_train.shape[0], 1, img_rows, img_cols)\n",
        "    X_test = X_test.reshape(X_test.shape[0], 1, img_rows, img_cols)\n",
        "    input_shape = (1, img_rows, img_cols)\n",
        "else:\n",
        "    X_train = X_train.reshape(X_train.shape[0], img_rows, img_cols, 1)\n",
        "    X_test = X_test.reshape(X_test.shape[0], img_rows, img_cols, 1)\n",
        "    input_shape = (img_rows, img_cols, 1)\n",
        "#more reshaping\n",
        "X_train = X_train.astype('float32')\n",
        "X_test = X_test.astype('float32')\n"
      ],
      "execution_count": null,
      "outputs": []
    },
    {
      "cell_type": "code",
      "metadata": {
        "id": "-VriX6tecKQD"
      },
      "source": [
        "X_train"
      ],
      "execution_count": null,
      "outputs": []
    },
    {
      "cell_type": "code",
      "metadata": {
        "id": "q5novLkaYeB5"
      },
      "source": [
        "# normalizing the data to help with the training\n",
        "X_train /= 255\n",
        "X_test /= 255"
      ],
      "execution_count": null,
      "outputs": []
    },
    {
      "cell_type": "code",
      "metadata": {
        "id": "UNlNsRkycSxb"
      },
      "source": [
        "X_train"
      ],
      "execution_count": null,
      "outputs": []
    },
    {
      "cell_type": "code",
      "metadata": {
        "colab": {
          "base_uri": "https://localhost:8080/"
        },
        "id": "VQag0CkFYjcp",
        "outputId": "50968d81-09c0-413f-9f50-5fa64cbf4884"
      },
      "source": [
        "# one-hot encoding using keras' numpy-related utilities\n",
        "n_classes = 10\n",
        "print(\"Shape before one-hot encoding: \", y_train.shape)\n",
        "Y_train = np_utils.to_categorical(y_train, n_classes)\n",
        "Y_test = np_utils.to_categorical(y_test, n_classes)\n",
        "print(\"Shape after one-hot encoding: \", Y_train.shape)"
      ],
      "execution_count": null,
      "outputs": [
        {
          "output_type": "stream",
          "text": [
            "Shape before one-hot encoding:  (60000,)\n",
            "Shape after one-hot encoding:  (60000, 10)\n"
          ],
          "name": "stdout"
        }
      ]
    },
    {
      "cell_type": "code",
      "metadata": {
        "id": "Kooo3PKHYopI"
      },
      "source": [
        "# building a linear stack of layers with the sequential model\n",
        "model = Sequential()\n",
        "\n",
        "# convolutional layer\n",
        "model.add(Conv2D(50, kernel_size=(3,3), strides=(1,1), padding='same', activation='relu', input_shape=(28, 28, 1)))\n",
        "\n",
        "# convolutional layer\n",
        "model.add(Conv2D(75, kernel_size=(3,3), strides=(1,1), padding='same', activation='relu'))\n",
        "model.add(MaxPool2D(pool_size=(2,2)))\n",
        "model.add(Dropout(0.25))\n",
        "\n",
        "# convolutional layer\n",
        "model.add(Conv2D(75, kernel_size=(3,3), strides=(1,1), padding='same', activation='relu'))\n",
        "model.add(MaxPool2D(pool_size=(2,2)))\n",
        "model.add(Dropout(0.25))\n",
        "\n",
        "# flatten output of conv\n",
        "model.add(Flatten())\n",
        "\n",
        "# hidden layer\n",
        "model.add(Dense(500, activation='relu'))\n",
        "model.add(Dropout(0.4))\n",
        "model.add(Dense(250, activation='relu'))\n",
        "model.add(Dropout(0.3))\n",
        "\n",
        "# output layer\n",
        "model.add(Dense(10, activation='softmax'))"
      ],
      "execution_count": null,
      "outputs": []
    },
    {
      "cell_type": "code",
      "metadata": {
        "id": "xP3rY8XoYsnX"
      },
      "source": [
        "# compiling the sequential model\n",
        "model.compile(loss='categorical_crossentropy', metrics=['accuracy'], optimizer='adam')"
      ],
      "execution_count": null,
      "outputs": []
    },
    {
      "cell_type": "code",
      "metadata": {
        "colab": {
          "base_uri": "https://localhost:8080/"
        },
        "id": "OUd53oCrYxRo",
        "outputId": "1702ad60-3e0b-48f5-af97-c5a5d58de8f5"
      },
      "source": [
        "# training the model for 10 epochs\n",
        "model.fit(X_train, Y_train, batch_size=500, epochs=12)"
      ],
      "execution_count": null,
      "outputs": [
        {
          "output_type": "stream",
          "text": [
            "Epoch 1/12\n",
            "120/120 [==============================] - 47s 43ms/step - loss: 0.8127 - accuracy: 0.7300\n",
            "Epoch 2/12\n",
            "120/120 [==============================] - 5s 43ms/step - loss: 0.0938 - accuracy: 0.9716\n",
            "Epoch 3/12\n",
            "120/120 [==============================] - 5s 43ms/step - loss: 0.0653 - accuracy: 0.9811\n",
            "Epoch 4/12\n",
            "120/120 [==============================] - 5s 43ms/step - loss: 0.0501 - accuracy: 0.9844\n",
            "Epoch 5/12\n",
            "120/120 [==============================] - 5s 43ms/step - loss: 0.0390 - accuracy: 0.9889\n",
            "Epoch 6/12\n",
            "120/120 [==============================] - 5s 43ms/step - loss: 0.0349 - accuracy: 0.9887\n",
            "Epoch 7/12\n",
            "120/120 [==============================] - 5s 44ms/step - loss: 0.0293 - accuracy: 0.9915\n",
            "Epoch 8/12\n",
            "120/120 [==============================] - 5s 44ms/step - loss: 0.0262 - accuracy: 0.9923\n",
            "Epoch 9/12\n",
            "120/120 [==============================] - 5s 44ms/step - loss: 0.0241 - accuracy: 0.9930\n",
            "Epoch 10/12\n",
            "120/120 [==============================] - 5s 44ms/step - loss: 0.0202 - accuracy: 0.9935\n",
            "Epoch 11/12\n",
            "120/120 [==============================] - 5s 44ms/step - loss: 0.0166 - accuracy: 0.9950\n",
            "Epoch 12/12\n",
            "120/120 [==============================] - 5s 44ms/step - loss: 0.0200 - accuracy: 0.9936\n"
          ],
          "name": "stdout"
        },
        {
          "output_type": "execute_result",
          "data": {
            "text/plain": [
              "<keras.callbacks.History at 0x7f870a44c650>"
            ]
          },
          "metadata": {
            "tags": []
          },
          "execution_count": 21
        }
      ]
    },
    {
      "cell_type": "code",
      "metadata": {
        "id": "AidbjOXnY2Bx"
      },
      "source": [
        "pred_e=model.predict(X_test)"
      ],
      "execution_count": null,
      "outputs": []
    },
    {
      "cell_type": "code",
      "metadata": {
        "colab": {
          "base_uri": "https://localhost:8080/"
        },
        "id": "2-vWLhRjedTr",
        "outputId": "cc6709d6-63f4-4b83-e8f5-0e22f9342131"
      },
      "source": [
        "pred_e"
      ],
      "execution_count": null,
      "outputs": [
        {
          "output_type": "execute_result",
          "data": {
            "text/plain": [
              "array([[7.8631456e-11, 8.6602370e-08, 5.5429105e-08, ..., 9.9999940e-01,\n",
              "        1.1121735e-09, 3.4641675e-07],\n",
              "       [2.3822185e-08, 3.0717426e-09, 1.0000000e+00, ..., 1.1077298e-10,\n",
              "        2.2070118e-11, 3.5172521e-13],\n",
              "       [4.7633527e-08, 9.9999118e-01, 6.8551472e-08, ..., 8.6113812e-07,\n",
              "        4.3193268e-07, 5.7593383e-08],\n",
              "       ...,\n",
              "       [2.9725080e-13, 1.6531819e-09, 6.3788502e-10, ..., 2.2911526e-09,\n",
              "        2.4345145e-08, 1.7985736e-08],\n",
              "       [2.9639974e-10, 5.0205995e-09, 1.9251732e-11, ..., 1.2310261e-10,\n",
              "        5.5718247e-06, 8.1520817e-09],\n",
              "       [2.3722410e-07, 7.7953883e-09, 1.6223016e-08, ..., 5.0954523e-12,\n",
              "        1.1528284e-07, 1.5932701e-09]], dtype=float32)"
            ]
          },
          "metadata": {
            "tags": []
          },
          "execution_count": 23
        }
      ]
    },
    {
      "cell_type": "code",
      "metadata": {
        "id": "k5vG0jeaY7Ay"
      },
      "source": [
        "import numpy as np\n",
        "pred=np.argmax(pred_e,axis=1)[:]"
      ],
      "execution_count": null,
      "outputs": []
    },
    {
      "cell_type": "code",
      "metadata": {
        "colab": {
          "base_uri": "https://localhost:8080/"
        },
        "id": "859AmhonejUb",
        "outputId": "4549841f-07bc-48d2-8856-f97a62331f50"
      },
      "source": [
        "pred"
      ],
      "execution_count": null,
      "outputs": [
        {
          "output_type": "execute_result",
          "data": {
            "text/plain": [
              "array([7, 2, 1, ..., 4, 5, 6])"
            ]
          },
          "metadata": {
            "tags": []
          },
          "execution_count": 25
        }
      ]
    },
    {
      "cell_type": "code",
      "metadata": {
        "id": "E8bSj7l_Y_4B"
      },
      "source": [
        "for i in pred:\n",
        "  print('Predicted class is %d and Expected class was %d' % (pred[i],y_test[i]))"
      ],
      "execution_count": null,
      "outputs": []
    },
    {
      "cell_type": "code",
      "metadata": {
        "colab": {
          "base_uri": "https://localhost:8080/"
        },
        "id": "X5fObdLcZFM5",
        "outputId": "cb2cee7e-2920-40db-b1a9-4814ea0f0b98"
      },
      "source": [
        "from sklearn.metrics import accuracy_score\n",
        "accuracy = accuracy_score(pred, y_test)\n",
        "print('Accuracy: %.2f' % (accuracy*100))"
      ],
      "execution_count": null,
      "outputs": [
        {
          "output_type": "stream",
          "text": [
            "Accuracy: 99.35\n"
          ],
          "name": "stdout"
        }
      ]
    },
    {
      "cell_type": "code",
      "metadata": {
        "colab": {
          "base_uri": "https://localhost:8080/"
        },
        "id": "JMgvRa_0ewnj",
        "outputId": "bde9cb6b-24d5-4a21-eb50-55d2e700d4b4"
      },
      "source": [
        "from sklearn.metrics import accuracy_score\n",
        "from sklearn.metrics import confusion_matrix\n",
        "conf_matrix = confusion_matrix(y_test, pred)\n",
        "print(conf_matrix)"
      ],
      "execution_count": null,
      "outputs": [
        {
          "output_type": "stream",
          "text": [
            "[[ 978    0    0    0    0    0    1    1    0    0]\n",
            " [   1 1133    0    0    0    0    1    0    0    0]\n",
            " [   1    0 1028    0    0    0    0    3    0    0]\n",
            " [   0    0    1 1008    0    1    0    0    0    0]\n",
            " [   0    1    0    0  970    0    3    0    2    6]\n",
            " [   1    0    0    6    0  882    2    0    1    0]\n",
            " [   1    2    0    0    1    1  953    0    0    0]\n",
            " [   0    3    4    1    0    0    0 1017    1    2]\n",
            " [   2    0    2    1    0    0    0    1  967    1]\n",
            " [   1    0    1    0    4    3    0    1    0  999]]\n"
          ],
          "name": "stdout"
        }
      ]
    },
    {
      "cell_type": "code",
      "metadata": {
        "colab": {
          "base_uri": "https://localhost:8080/",
          "height": 283
        },
        "id": "Z1uzaVQNe3DK",
        "outputId": "d2d9f17e-0112-4b7b-e622-09ef755b7b57"
      },
      "source": [
        "import seaborn as sns\n",
        "sns.heatmap(conf_matrix, annot=True)"
      ],
      "execution_count": null,
      "outputs": [
        {
          "output_type": "execute_result",
          "data": {
            "text/plain": [
              "<matplotlib.axes._subplots.AxesSubplot at 0x7f870a6874d0>"
            ]
          },
          "metadata": {
            "tags": []
          },
          "execution_count": 29
        },
        {
          "output_type": "display_data",
          "data": {
            "image/png": "[encoded data removed]",
            "text/plain": [
              "<Figure size 432x288 with 2 Axes>"
            ]
          },
          "metadata": {
            "tags": [],
            "needs_background": "light"
          }
        }
      ]
    }
  ]
}